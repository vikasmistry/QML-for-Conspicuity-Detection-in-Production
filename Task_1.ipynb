{
 "cells": [
  {
   "cell_type": "markdown",
   "metadata": {},
   "source": [
    "# Introduction to Quantum Computing"
   ]
  },
  {
   "cell_type": "markdown",
   "metadata": {},
   "source": [
    "## All about Qubits"
   ]
  },
  {
   "cell_type": "markdown",
   "metadata": {},
   "source": [
    "### Codercise I.1.1 — Normalization of Quantum States\n",
    "  - A quantum state must be normalized such that the sum of the probabilities of all possible outcomes equals 1.\n",
    "  - Example: For a qubit state $|\\psi\\rangle = \\alpha|0\\rangle + \\beta|1\\rangle$, the normalization condition is $|\\alpha|^2 + |\\beta|^2 = 1$.\n",
    "\n",
    "### Codercise I.1.2 — Inner Product and Orthonormal Bases\n",
    "  - Inner product of two states $|\\psi\\rangle$ and $|\\phi\\rangle$ is $\\langle\\psi|\\phi\\rangle$.\n",
    "  - Orthonormal bases satisfy $\\langle i|j \\rangle = \\delta_{ij}$.\n",
    "\n",
    "### Codercise I.1.3 — Sampling Measurement Outcomes\n",
    "  - Measurement outcomes are probabilistic and depend on the state of the qubit.\n",
    "  - Example: For state $|\\psi\\rangle = \\alpha|0\\rangle + \\beta|1\\rangle$, the probability of measuring $|0\\rangle$ is $|\\alpha|^2$.\n",
    "\n",
    "### Codercise I.1.4 — Applying a Quantum Operation\n",
    "  - Quantum operations are represented by unitary matrices.\n",
    "  - Example: Applying the Hadamard gate to $|0\\rangle$ results in $\\frac{1}{\\sqrt{2}}(|0\\rangle + |1\\rangle)$.\n",
    "\n",
    "### Codercise I.1.5 — A Simple Quantum Algorithm\n",
    "  - Steps: Prepare entangled state, apply operations, and measure the outcome.\n",
    "\n",
    "---\n"
   ]
  },
  {
   "cell_type": "markdown",
   "metadata": {},
   "source": [
    "## Quantum Circuits"
   ]
  },
  {
   "cell_type": "markdown",
   "metadata": {},
   "source": [
    "### Codercise I.2.1 — Order of Operations\n",
    "  - Quantum gates are applied in a specific sequence.\n",
    "  - The order of operations affects the final state of the quantum system.\n",
    "  - Visualizing the circuit to verify the order.\n",
    "\n",
    "### Codercise I.2.2 — Building a QNode\n",
    "  - QNodes are the core computational unit in PennyLane.\n",
    "  - They can be constructed using various quantum devices.\n",
    "\n",
    "### Codercise I.2.3 — The QNode Decorator\n",
    "  - The QNode decorator simplifies the creation of QNodes.\n",
    "  - It allows for easy integration with classical machine learning frameworks, it can easly apply to traditional python functions.\n",
    "\n",
    "\n",
    "### Codercise I.2.4 — Circuit Depth\n",
    "  - Circuit depth refers to the number of sequential operations in a quantum circuit.\n",
    "  - It impacts the computational complexity and error rates.\n",
    "\n",
    "---\n",
    "\n"
   ]
  },
  {
   "cell_type": "markdown",
   "metadata": {},
   "source": [
    "## Unitary Matrices"
   ]
  },
  {
   "cell_type": "markdown",
   "metadata": {},
   "source": [
    "### Codercise I.3.1 — Unitaries in PennyLane\n",
    "\n",
    "- Unitary Matrices: Matrices that preserve the length of vectors they act upon.\n",
    "- Properties: A matrix $U$ is unitary if $U^\\dagger U = I$, where $U^\\dagger$ is the conjugate transpose of $U$  and $I$ is the identity matrix.\n",
    "\n",
    "- Matrix-Vector Multiplication: Used to perform operations on qubits.\n",
    "\n",
    "\n",
    "### Codercise I.3.2 — Parametrized Unitaries\n",
    "\n",
    "\n",
    "- Parametrized Unitaries: Unitary matrices that depend on parameters, often used in variational algorithms.\n",
    "- Applications: Useful in quantum machine learning and optimization problems.\n",
    "- Parameterization: Allows for flexible and tunable quantum operations.\n",
    "- Variational Circuits: Circuits with gates that are parameterized and optimized.\n",
    "\n",
    "\n"
   ]
  },
  {
   "cell_type": "markdown",
   "metadata": {},
   "source": [
    "# Single-Qubit Gates\n"
   ]
  },
  {
   "cell_type": "markdown",
   "metadata": {},
   "source": [
    "## X and H"
   ]
  },
  {
   "cell_type": "markdown",
   "metadata": {},
   "source": [
    "### Codercise I.4.1 — Flipping bits\n",
    "\n",
    "- The Pauli-X gate acts like a classical NOT gate, flipping the state of a qubit.\n",
    "- Applying the Pauli-X gate to a qubit in state $|0\\rangle$ results in state $|1\\rangle$, and vice versa.\n",
    "\n",
    "### Codercise I.4.2 — Uniform superposition\n",
    "\n",
    "- The Hadamard gate creates an equal superposition of $|0\\rangle$ and $|1\\rangle$.\n",
    "- Applying the Hadamard gate to a qubit in state $|0\\rangle$ results in the state $(|0\\rangle + |1\\rangle)/\\sqrt2)$.\n",
    "\n",
    "### Codercise I.4.3 — Combining X and H\n",
    "\n",
    "- Combining Pauli-X and Hadamard gates can create different superpositions and states.\n",
    "- This gives another Bell's state  $|-\\rangle$ from Bell's basis. \n",
    "\n",
    "### Codercise I.4.4 — A QNode with X and H\n",
    "\n",
    "- HXH circuit is same as Pauli-Z gate (Z)\n",
    "- When state is 0 it leaves state unchanged \n",
    "- When state is 1 it flips the phase of the qubit (-1)\n",
    "\n",
    "---\n"
   ]
  },
  {
   "cell_type": "markdown",
   "metadata": {},
   "source": [
    "## It's Just a Phase "
   ]
  },
  {
   "cell_type": "markdown",
   "metadata": {},
   "source": [
    "### Codercise I.5.1 — The Pauli Z Gate\n",
    "  - The Pauli Z gate is a single-qubit gate that flips the phase of the qubit.\n",
    "  - It is represented by the matrix:\n",
    "    $\n",
    "    Z = \\begin{pmatrix}\n",
    "    1 & 0 \\\\\n",
    "    0 & -1\n",
    "    \\end{pmatrix}\n",
    "    $\n",
    "  - Applying the Z gate to a qubit in state $|0\\rangle$ leaves it unchanged, while applying it to $|1\\rangle$ flips its phase.\n",
    "\n",
    "### Codercise I.5.2 — The Z Rotation\n",
    "  - Z rotations are parameterized by an angle $\\theta$ and are represented by the matrix:\n",
    "    $\n",
    "    R_z(\\theta) = \\begin{pmatrix}\n",
    "    e^{-i\\theta/2} & 0 \\\\\n",
    "    0 & e^{i\\theta/2}\n",
    "    \\end{pmatrix}\n",
    "    $\n",
    "  - They rotate the qubit around the Z-axis of the Bloch sphere by an angle $\\theta$.\n",
    "\n",
    "### Codercise I.5.3 — The S and T Gates\n",
    "\n",
    "- **Key Learnings**:\n",
    "  - The S gate is a Z rotation by $\\pi$/2:\n",
    "    $\n",
    "    S = \\begin{pmatrix}\n",
    "    1 & 0 \\\\\n",
    "    0 & i\n",
    "    \\end{pmatrix}\n",
    "    $\n",
    "  - The T gate is a Z rotation by $\\pi$/4:\n",
    "    $\n",
    "    T = \\begin{pmatrix}\n",
    "    1 & 0 \\\\\n",
    "    0 & e^{i\\pi/4}\n",
    "    \\end{pmatrix}\n",
    "    $\n",
    "\n",
    "---\n",
    "\n"
   ]
  },
  {
   "cell_type": "markdown",
   "metadata": {},
   "source": [
    "## From a Different Angle"
   ]
  },
  {
   "cell_type": "markdown",
   "metadata": {},
   "source": [
    "### Codercise I.6.1 — Applying RX\n",
    "- the action of the `RX` gate and its matrix representation.\n",
    "\n",
    "\n",
    "### Codercise I.6.2 — Plotting RX\n",
    "- Visualizing the effect of the `RX` gate on the quantum state.\n",
    "\n",
    "\n",
    "### Codercise I.6.3 — Plotting RY\n",
    "- Visualizing the effect of the `RY` gate on the quantum state.\n",
    "\n",
    "---"
   ]
  },
  {
   "cell_type": "markdown",
   "metadata": {},
   "source": [
    "## Universal Gate Sets"
   ]
  },
  {
   "cell_type": "markdown",
   "metadata": {},
   "source": [
    "### Codercise I.7.1 — Universality of Rotations\n",
    "  - Understanding the concept of universal gate sets.\n",
    "  - Exploring the role of rotations in quantum circuits.\n",
    "\n",
    "### Codercise I.7.2 — Synthesizing a Circuit\n",
    "  - Steps to synthesize a quantum circuit.\n",
    "  - Importance of gate decomposition.\n",
    "\n",
    "### Codercise I.7.3 — Universality of H and T\n",
    "  - Exploring the universality of Hadamard (H) and T gates.\n",
    "  - Practical applications of H and T gates in quantum computing.\n",
    "\n",
    "---"
   ]
  },
  {
   "cell_type": "markdown",
   "metadata": {},
   "source": [
    "## Prepare Yourself\n"
   ]
  },
  {
   "cell_type": "markdown",
   "metadata": {},
   "source": [
    "### Codercise I.8.1: State Preparation\n",
    "\n",
    "- Prepare a specific quantum state using single-qubit gates.\n",
    "- Understanding the Hadamard gate and RZ rotation.\n",
    "\n",
    "### Codercise I.8.2: State Preparation Revisited\n",
    "\n",
    "- Refine the state preparation process with additional gates.\n",
    "- Combining multiple rotation gates.\n",
    "\n",
    "### Codercise I.8.3: State Preparation with Mottonen's Method\n",
    "\n",
    "- Understanding and implementing Mottonen's method.\n",
    "- That prepare a state from a vector using Template \n",
    "- Templates are subroutines that can be used in quantum circuits just like any other gate\n",
    "\n",
    "---\n"
   ]
  },
  {
   "cell_type": "markdown",
   "metadata": {},
   "source": [
    "## Measurements"
   ]
  },
  {
   "cell_type": "markdown",
   "metadata": {},
   "source": [
    "### Codercise I.9.1 — Measuring a Superposition\n",
    "  - Measurement collapses a quantum state to one of the basis states.\n",
    "  - The probability of each outcome is determined by the amplitude squared of the state in that basis.\n",
    "\n",
    "### Codercise I.9.2 — Y Basis Rotation\n",
    "  - Basis rotation is essential for measuring in different bases.\n",
    "  - The Y basis involves a specific unitary transformation applied to the quantum state.\n",
    "\n",
    "### Codercise I.9.3 — Measurement in the Y Basis\n",
    "  - Measurement in the Y basis requires rotating the state to the Y basis first.\n",
    "  - The outcomes and their probabilities are determined by the state's components in the Y basis.\n",
    "\n",
    "---"
   ]
  },
  {
   "cell_type": "markdown",
   "metadata": {},
   "source": [
    "## What Did You Expect?"
   ]
  },
  {
   "cell_type": "markdown",
   "metadata": {},
   "source": [
    "### Codercise I.10.1 — Measurement of the PauliY Observable\n",
    "\n",
    "  - Understanding the significance of PauliY in quantum mechanics.\n",
    "\n",
    "### Codercise I.10.2 — Setting up the Number of Experiment Shots\n",
    "\n",
    "  - The impact of shot numbers on the accuracy of results.\n",
    "  - Balancing computational resources with experimental precision.\n",
    "\n",
    "### Codercise I.10.3 — Evaluating the Samples\n",
    "\n",
    "  - Techniques for evaluating quantum samples.\n",
    "  - Importance of statistical analysis in quantum experiments.\n",
    "\n",
    "### Codercise I.10.4 — The Variance of Sample Measurements\n",
    "\n",
    "  - The concept of variance in the context of quantum measurements.\n",
    "  - How variance affects the reliability of experimental results.\n",
    "\n",
    "---\n",
    "\n"
   ]
  },
  {
   "cell_type": "markdown",
   "metadata": {},
   "source": [
    "# Circuits with multiple Qubits"
   ]
  },
  {
   "cell_type": "markdown",
   "metadata": {},
   "source": [
    "## Multi-Qubit system "
   ]
  },
  {
   "cell_type": "markdown",
   "metadata": {},
   "source": [
    "### Codercise I.11.1 — Preparing Basis State\n",
    "  - Understanding qubit-ordering conventions in PennyLane.\n",
    "  - Preparing basis states based on integer inputs.\n",
    "\n",
    "### Codercise I.11.2 — Separable Operations\n",
    "  - Constructing separable operations on multiple qubits.\n",
    "  - Measuring multiple observables in PennyLane.\n",
    "\n",
    "### Codercise I.11.3 — Expectation Value of Two-Qubit Observable\n",
    "  - Combining observables using the tensor product.\n",
    "  - Measuring expectation values of multi-qubit observables.\n",
    "\n",
    "### Codercise I.11.4 — Double Trouble\n",
    "  - Implementing and comparing different measurement strategies.\n",
    "  - Plotting and analyzing results to test hypotheses.\n",
    "\n",
    "---\n"
   ]
  },
  {
   "cell_type": "markdown",
   "metadata": {},
   "source": [
    "## All Tied Up"
   ]
  },
  {
   "cell_type": "markdown",
   "metadata": {},
   "source": [
    "### Codercise I.12.1 — Entangling Operations\n",
    "\n",
    "- CNOT Gate: The CNOT gate flips the target qubit if the control qubit is in state $|1\\rangle$.\n",
    "- Truth Table: The resulting states for each basis state input.\n",
    "\n",
    "### Codercise I.12.2 — Separable or Entangled?\n",
    "\n",
    "- Bell State: The circuit creates a maximally entangled Bell state.\n",
    "- Entanglement: The state is entangled as the measurement outcomes of the qubits are correlated.\n",
    "\n",
    "### Codercise I.12.3 — Controlled Rotations\n",
    "\n",
    "- Controlled Rotations: Applying controlled rotations can create entangled states.\n",
    "- Measurement Probabilities: The probabilities of different measurement outcomes for the 3-qubit system.\n",
    "\n",
    "---\n"
   ]
  },
  {
   "cell_type": "markdown",
   "metadata": {},
   "source": [
    "## We've Got It Under Control"
   ]
  },
  {
   "cell_type": "markdown",
   "metadata": {},
   "source": [
    "### Codercise I.13.1 — The Imposter CZ\n",
    "\n",
    "- The CZ gate applies a phase flip to the target qubit only when the control qubit is in the state $|1\\rangle$.\n",
    "\n",
    "### Codercise I.13.2 — The SWAP Gate\n",
    "- The SWAP gate exchanges the states of two qubits.\n",
    "- SWAP can be done using 3 CNOT gates\n",
    "\n",
    "### Codercise I.13.3 — The Toffoli Gate\n",
    "\n",
    "- The Toffoli gate is a universal gate for classical computation.\n",
    "- The Toffoli gate is just controled CNOT gate\n",
    "\n",
    "\n",
    "### Codercise I.13.4 — Mixed Controlled Gates\n",
    "- Mixed controlled gates combine different types of control mechanisms.\n",
    "\n",
    "\n",
    "### Codercise I.13.5 — The 3-Controlled-NOT\n",
    "- The 3-controlled-NOT gate is an extension of the Toffoli gate.\n",
    "\n",
    "---"
   ]
  },
  {
   "cell_type": "markdown",
   "metadata": {},
   "source": [
    "## Multi-Qubit Gate Challenge"
   ]
  },
  {
   "cell_type": "markdown",
   "metadata": {},
   "source": [
    "### Codercise I.14.1 — The Bell States\n",
    "\n",
    "#### Objective\n",
    "Prepare and return each of the four Bell states using PennyLane circuits.\n",
    "\n",
    "#### Circuits\n",
    "1. **Prepare $\\psi^+$**:\n",
    "    ```python\n",
    "    @qml.qnode(dev)\n",
    "    def prepare_psi_plus():\n",
    "        qml.Hadamard(wires=0)\n",
    "        qml.CNOT(wires=[0, 1])\n",
    "        return qml.state()\n",
    "    ```\n",
    "\n",
    "2. **Prepare $\\psi^-$**:\n",
    "    ```python\n",
    "    @qml.qnode(dev)\n",
    "    def prepare_psi_minus():\n",
    "        qml.Hadamard(wires=0)\n",
    "        qml.CNOT(wires=[0, 1])\n",
    "        qml.CZ(wires=[0, 1])\n",
    "        return qml.state()\n",
    "    ```\n",
    "\n",
    "3. **Prepare $\\phi^+$**:\n",
    "    ```python\n",
    "    @qml.qnode(dev)\n",
    "    def prepare_phi_plus():\n",
    "        qml.Hadamard(wires=0)\n",
    "        qml.CNOT(wires=[0, 1])\n",
    "        return qml.state()\n",
    "    ```\n",
    "\n",
    "4. **Prepare $\\phi^-$**:\n",
    "    ```python\n",
    "    @qml.qnode(dev)\n",
    "    def prepare_phi_minus():\n",
    "        qml.Hadamard(wires=0)\n",
    "        qml.CNOT(wires=[0, 1])\n",
    "        qml.CZ(wires=[0, 1])\n",
    "        return qml.state()\n",
    "    ```\n",
    "\n",
    "### Codercise I.14.2 — Quantum Multiplexer\n",
    "\n",
    "#### Objective\n",
    "Implement a 3-qubit circuit that performs specific operations based on the states of the first two qubits.\n",
    "\n",
    "#### Circuit\n",
    "```python\n",
    "@qml.qnode(dev)\n",
    "def apply_control_sequence(state):\n",
    "    if state[0] == 1:\n",
    "        qml.PauliX(wires=0)\n",
    "    if state[1] == 1:\n",
    "        qml.PauliX(wires=1)\n",
    "    qml.PauliX(wires=2)\n",
    "    qml.Hadamard(wires=2)\n",
    "    qml.MultiControlledX(control_wires=[0, 1], wires=2, control_values=\"01\")\n",
    "    qml.X(wires=1)\n",
    "    qml.CCZ(wires=[0, 1, 2])\n",
    "    qml.X(wires=1)\n",
    "    qml.adjoint(qml.S)(2)\n",
    "    qml.Toffoli([0,1,2])\n",
    "    qml.S(2)\n",
    "    return qml.state()\n",
    "```\n",
    "\n",
    "#### Learnings\n",
    "- Bell States : Understanding and preparing the four Bell states using quantum circuits.\n",
    "- Quantum Multiplexer : Implementing a quantum multiplexer to perform conditional operations based on qubit states.\n",
    "\n",
    "---\n"
   ]
  },
  {
   "cell_type": "markdown",
   "metadata": {},
   "source": [
    "# References\n",
    "- https://pennylane.ai/codebook/"
   ]
  }
 ],
 "metadata": {
  "kernelspec": {
   "display_name": "Python 3",
   "language": "python",
   "name": "python3"
  },
  "language_info": {
   "codemirror_mode": {
    "name": "ipython",
    "version": 3
   },
   "file_extension": ".py",
   "mimetype": "text/x-python",
   "name": "python",
   "nbconvert_exporter": "python",
   "pygments_lexer": "ipython3",
   "version": "3.10.12"
  }
 },
 "nbformat": 4,
 "nbformat_minor": 2
}
